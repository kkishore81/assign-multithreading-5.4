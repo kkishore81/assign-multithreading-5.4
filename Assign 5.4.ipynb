{
 "cells": [
  {
   "cell_type": "code",
   "execution_count": 1,
   "id": "52841392-8063-4ca7-be65-cc9bc374107e",
   "metadata": {},
   "outputs": [],
   "source": [
    "# Q1. What is multiprocessing in python? Why is it useful? "
   ]
  },
  {
   "cell_type": "code",
   "execution_count": null,
   "id": "ce78cec7-a918-480c-8434-6b2c8bccb5fe",
   "metadata": {},
   "outputs": [],
   "source": [
    "# multiprocessing is a built-in package that allows the system to run multiple processes simultaneously. \n",
    " #It will enable the breaking of applications into smaller processes that can run independently. \n",
    "    \n",
    " #it improves performance and scalebility also Reduced resource usage"
   ]
  },
  {
   "cell_type": "code",
   "execution_count": null,
   "id": "2e75bbbe-df37-45cb-b1e3-b6f61eac601d",
   "metadata": {},
   "outputs": [],
   "source": [
    "# Q2. What are the differences between multiprocessing and multithreading?\n",
    "\n",
    "''' Multiprocessing is a method that enables numerous processes to operate simultaneously.\n",
    "Each process has its own memory allocation and source code, and it can communicate with other processes by passing messages or using shared memory.\n",
    "\n",
    "Multiple threads can execute simultaneously within a single process \n",
    "While sharing the same code and memory, threads each have their own stack and registers.'''"
   ]
  },
  {
   "cell_type": "code",
   "execution_count": null,
   "id": "caa55601-7614-42f3-a1db-44a9bcf19fcc",
   "metadata": {},
   "outputs": [],
   "source": [
    "Q3. Write a python code to create a process using the multiprocessing module."
   ]
  },
  {
   "cell_type": "code",
   "execution_count": 3,
   "id": "e6e813f5-b3ad-4a65-9f09-df954a9d2eda",
   "metadata": {},
   "outputs": [
    {
     "name": "stdout",
     "output_type": "stream",
     "text": [
      "this is mu main prog\n",
      "this is my multuiprocessing prog\n"
     ]
    }
   ],
   "source": [
    "import multiprocessing\n",
    "def test():\n",
    "    print(\"this is my multuiprocessing prog\")\n",
    "    \n",
    "if __name__== \"__main__\":\n",
    "    m = multiprocessing.Process(target = test)\n",
    "    print(\"this is mu main prog\")\n",
    "    m.start()\n",
    "    m.join()"
   ]
  },
  {
   "cell_type": "code",
   "execution_count": null,
   "id": "309e83a4-1b2a-4fb5-8617-04707fb9d867",
   "metadata": {},
   "outputs": [],
   "source": [
    "# Q4 What is a multiprocessing pool in python? Why is it used?"
   ]
  },
  {
   "cell_type": "code",
   "execution_count": null,
   "id": "108aa177-65ae-4050-b876-04197d1f8372",
   "metadata": {},
   "outputs": [],
   "source": [
    " #A multiprocessing pool in Python  allows us to run multiple processes concurrently. \n",
    " # it is used to improve the performance of applications that need to execute a large number of tasks"
   ]
  },
  {
   "cell_type": "code",
   "execution_count": null,
   "id": "6700bde2-5ce9-4580-8a11-7bf8287175e8",
   "metadata": {},
   "outputs": [],
   "source": [
    "# Q5 How can we create a pool of worker processes in python using the multiprocessing module?"
   ]
  },
  {
   "cell_type": "code",
   "execution_count": null,
   "id": "d317b613-737c-4f10-a27c-1921bbabc14d",
   "metadata": {},
   "outputs": [],
   "source": [
    " # We can create a pool of worker processes using the Pool class. "
   ]
  },
  {
   "cell_type": "code",
   "execution_count": null,
   "id": "5ecfc9c1-7572-4af4-ab98-17b520c39674",
   "metadata": {},
   "outputs": [],
   "source": [
    "# Q6. Write a python program to create 4 processes, each process should print a different number using the\n",
    "multiprocessing module in python."
   ]
  },
  {
   "cell_type": "code",
   "execution_count": 11,
   "id": "c8e80f38-3540-4a10-aa1d-3aa7c15a61f9",
   "metadata": {},
   "outputs": [
    {
     "name": "stdout",
     "output_type": "stream",
     "text": [
      "Process ID: 3362\n",
      "Process ID:Num:  3365Process ID:1\n",
      "\n",
      " Num:3374 \n",
      "Process ID:2Num:\n",
      "  33953\n",
      "\n",
      "Num: 4\n"
     ]
    }
   ],
   "source": [
    "import multiprocessing\n",
    "\n",
    "def print_number(number):\n",
    "    print(\"Process ID:\", multiprocessing.current_process().pid)\n",
    "    print(\"Num:\", num)\n",
    "\n",
    "if __name__ == \"__main__\":\n",
    "    numbers = [1, 2, 3, 4]\n",
    "\n",
    "    processes = []\n",
    "    for num in numbers:\n",
    "        process = multiprocessing.Process(target=print_number, args=(num,))\n",
    "        processes.append(process)\n",
    "\n",
    "    for process in processes:\n",
    "        process.start()\n",
    "\n",
    "    for process in processes:\n",
    "        process.join()"
   ]
  },
  {
   "cell_type": "code",
   "execution_count": null,
   "id": "51435c75-d567-4da0-b42a-3a869277cc38",
   "metadata": {},
   "outputs": [],
   "source": []
  }
 ],
 "metadata": {
  "kernelspec": {
   "display_name": "Python 3 (ipykernel)",
   "language": "python",
   "name": "python3"
  },
  "language_info": {
   "codemirror_mode": {
    "name": "ipython",
    "version": 3
   },
   "file_extension": ".py",
   "mimetype": "text/x-python",
   "name": "python",
   "nbconvert_exporter": "python",
   "pygments_lexer": "ipython3",
   "version": "3.10.8"
  }
 },
 "nbformat": 4,
 "nbformat_minor": 5
}
